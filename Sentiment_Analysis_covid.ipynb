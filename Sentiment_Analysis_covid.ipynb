{
  "nbformat": 4,
  "nbformat_minor": 0,
  "metadata": {
    "colab": {
      "provenance": [],
      "authorship_tag": "ABX9TyP+yCKp6HaC5+hdojCkYaNZ",
      "include_colab_link": true
    },
    "kernelspec": {
      "name": "python3",
      "display_name": "Python 3"
    },
    "language_info": {
      "name": "python"
    }
  },
  "cells": [
    {
      "cell_type": "markdown",
      "metadata": {
        "id": "view-in-github",
        "colab_type": "text"
      },
      "source": [
        "<a href=\"https://colab.research.google.com/github/Aditya2600/Covid-19-Tweets-Sentiment-Analysis/blob/main/Sentiment_Analysis_covid.ipynb\" target=\"_parent\"><img src=\"https://colab.research.google.com/assets/colab-badge.svg\" alt=\"Open In Colab\"/></a>"
      ]
    },
    {
      "cell_type": "code",
      "execution_count": null,
      "metadata": {
        "colab": {
          "base_uri": "https://localhost:8080/"
        },
        "id": "MigBlgbOjhq3",
        "outputId": "0bd102ec-3228-465c-8c5f-22abb1e67b17"
      },
      "outputs": [
        {
          "output_type": "stream",
          "name": "stdout",
          "text": [
            "Requirement already satisfied: nltk in /usr/local/lib/python3.10/dist-packages (3.9.1)\n",
            "Requirement already satisfied: click in /usr/local/lib/python3.10/dist-packages (from nltk) (8.1.8)\n",
            "Requirement already satisfied: joblib in /usr/local/lib/python3.10/dist-packages (from nltk) (1.4.2)\n",
            "Requirement already satisfied: regex>=2021.8.3 in /usr/local/lib/python3.10/dist-packages (from nltk) (2024.11.6)\n",
            "Requirement already satisfied: tqdm in /usr/local/lib/python3.10/dist-packages (from nltk) (4.67.1)\n"
          ]
        },
        {
          "output_type": "stream",
          "name": "stderr",
          "text": [
            "[nltk_data] Downloading package punkt to /root/nltk_data...\n",
            "[nltk_data]   Unzipping tokenizers/punkt.zip.\n"
          ]
        },
        {
          "output_type": "execute_result",
          "data": {
            "text/plain": [
              "True"
            ]
          },
          "metadata": {},
          "execution_count": 1
        }
      ],
      "source": [
        "import os\n",
        "import re\n",
        "import random\n",
        "import string\n",
        "import pandas as pd\n",
        "import numpy as np\n",
        "import matplotlib.pyplot as plt\n",
        "import seaborn as sns\n",
        "import warnings\n",
        "warnings.filterwarnings('ignore')\n",
        "from sklearn.model_selection import train_test_split\n",
        "from sklearn.linear_model import LogisticRegression\n",
        "\n",
        "!pip install --user -U nltk\n",
        "import nltk\n",
        "nltk.download('punkt')"
      ]
    },
    {
      "cell_type": "code",
      "source": [
        "!pip install chardet"
      ],
      "metadata": {
        "colab": {
          "base_uri": "https://localhost:8080/"
        },
        "id": "VIEBlA50vI5l",
        "outputId": "6a4ba468-037c-44ee-9566-7c205729765d"
      },
      "execution_count": null,
      "outputs": [
        {
          "output_type": "stream",
          "name": "stdout",
          "text": [
            "Requirement already satisfied: chardet in /usr/local/lib/python3.10/dist-packages (5.2.0)\n"
          ]
        }
      ]
    },
    {
      "cell_type": "markdown",
      "source": [],
      "metadata": {
        "id": "rNKi-cOHvIbK"
      }
    },
    {
      "cell_type": "code",
      "source": [
        "import chardet\n",
        "\n",
        "with open('./Corona_NLP_train.csv', 'rb') as f:\n",
        "    result = chardet.detect(f.read())\n",
        "    print(result['encoding'])"
      ],
      "metadata": {
        "colab": {
          "base_uri": "https://localhost:8080/"
        },
        "id": "JL8a057XkkCZ",
        "outputId": "d22d0d19-e106-4a24-ce8e-77398c27bc2d"
      },
      "execution_count": null,
      "outputs": [
        {
          "output_type": "stream",
          "name": "stdout",
          "text": [
            "MacRoman\n"
          ]
        }
      ]
    },
    {
      "cell_type": "code",
      "source": [
        "dataframe = pd.read_csv(\"./Corona_NLP_train.csv\", encoding=result['encoding'])"
      ],
      "metadata": {
        "id": "evTjpNukvPQZ"
      },
      "execution_count": null,
      "outputs": []
    },
    {
      "cell_type": "code",
      "source": [
        "dataframe.head()"
      ],
      "metadata": {
        "colab": {
          "base_uri": "https://localhost:8080/",
          "height": 204
        },
        "id": "tHH7PH7vtSFy",
        "outputId": "20d56b29-763d-4c5e-cc92-8812e4a69deb"
      },
      "execution_count": null,
      "outputs": [
        {
          "output_type": "execute_result",
          "data": {
            "text/plain": [
              "   UserName  ScreenName   Location     TweetAt  \\\n",
              "0      3799       48751     London  16-03-2020   \n",
              "1      3800       48752         UK  16-03-2020   \n",
              "2      3801       48753  Vagabonds  16-03-2020   \n",
              "3      3802       48754        NaN  16-03-2020   \n",
              "4      3803       48755        NaN  16-03-2020   \n",
              "\n",
              "                                       OriginalTweet           Sentiment  \n",
              "0  @MeNyrbie @Phil_Gahan @Chrisitv https://t.co/i...             Neutral  \n",
              "1  advice Talk to your neighbours family to excha...            Positive  \n",
              "2  Coronavirus Australia: Woolworths to give elde...            Positive  \n",
              "3  My food stock is not the only one which is emp...            Positive  \n",
              "4  Me, ready to go at supermarket during the #COV...  Extremely Negative  "
            ],
            "text/html": [
              "\n",
              "  <div id=\"df-c8a63a37-b21d-4c01-80c0-05744e69c471\" class=\"colab-df-container\">\n",
              "    <div>\n",
              "<style scoped>\n",
              "    .dataframe tbody tr th:only-of-type {\n",
              "        vertical-align: middle;\n",
              "    }\n",
              "\n",
              "    .dataframe tbody tr th {\n",
              "        vertical-align: top;\n",
              "    }\n",
              "\n",
              "    .dataframe thead th {\n",
              "        text-align: right;\n",
              "    }\n",
              "</style>\n",
              "<table border=\"1\" class=\"dataframe\">\n",
              "  <thead>\n",
              "    <tr style=\"text-align: right;\">\n",
              "      <th></th>\n",
              "      <th>UserName</th>\n",
              "      <th>ScreenName</th>\n",
              "      <th>Location</th>\n",
              "      <th>TweetAt</th>\n",
              "      <th>OriginalTweet</th>\n",
              "      <th>Sentiment</th>\n",
              "    </tr>\n",
              "  </thead>\n",
              "  <tbody>\n",
              "    <tr>\n",
              "      <th>0</th>\n",
              "      <td>3799</td>\n",
              "      <td>48751</td>\n",
              "      <td>London</td>\n",
              "      <td>16-03-2020</td>\n",
              "      <td>@MeNyrbie @Phil_Gahan @Chrisitv https://t.co/i...</td>\n",
              "      <td>Neutral</td>\n",
              "    </tr>\n",
              "    <tr>\n",
              "      <th>1</th>\n",
              "      <td>3800</td>\n",
              "      <td>48752</td>\n",
              "      <td>UK</td>\n",
              "      <td>16-03-2020</td>\n",
              "      <td>advice Talk to your neighbours family to excha...</td>\n",
              "      <td>Positive</td>\n",
              "    </tr>\n",
              "    <tr>\n",
              "      <th>2</th>\n",
              "      <td>3801</td>\n",
              "      <td>48753</td>\n",
              "      <td>Vagabonds</td>\n",
              "      <td>16-03-2020</td>\n",
              "      <td>Coronavirus Australia: Woolworths to give elde...</td>\n",
              "      <td>Positive</td>\n",
              "    </tr>\n",
              "    <tr>\n",
              "      <th>3</th>\n",
              "      <td>3802</td>\n",
              "      <td>48754</td>\n",
              "      <td>NaN</td>\n",
              "      <td>16-03-2020</td>\n",
              "      <td>My food stock is not the only one which is emp...</td>\n",
              "      <td>Positive</td>\n",
              "    </tr>\n",
              "    <tr>\n",
              "      <th>4</th>\n",
              "      <td>3803</td>\n",
              "      <td>48755</td>\n",
              "      <td>NaN</td>\n",
              "      <td>16-03-2020</td>\n",
              "      <td>Me, ready to go at supermarket during the #COV...</td>\n",
              "      <td>Extremely Negative</td>\n",
              "    </tr>\n",
              "  </tbody>\n",
              "</table>\n",
              "</div>\n",
              "    <div class=\"colab-df-buttons\">\n",
              "\n",
              "  <div class=\"colab-df-container\">\n",
              "    <button class=\"colab-df-convert\" onclick=\"convertToInteractive('df-c8a63a37-b21d-4c01-80c0-05744e69c471')\"\n",
              "            title=\"Convert this dataframe to an interactive table.\"\n",
              "            style=\"display:none;\">\n",
              "\n",
              "  <svg xmlns=\"http://www.w3.org/2000/svg\" height=\"24px\" viewBox=\"0 -960 960 960\">\n",
              "    <path d=\"M120-120v-720h720v720H120Zm60-500h600v-160H180v160Zm220 220h160v-160H400v160Zm0 220h160v-160H400v160ZM180-400h160v-160H180v160Zm440 0h160v-160H620v160ZM180-180h160v-160H180v160Zm440 0h160v-160H620v160Z\"/>\n",
              "  </svg>\n",
              "    </button>\n",
              "\n",
              "  <style>\n",
              "    .colab-df-container {\n",
              "      display:flex;\n",
              "      gap: 12px;\n",
              "    }\n",
              "\n",
              "    .colab-df-convert {\n",
              "      background-color: #E8F0FE;\n",
              "      border: none;\n",
              "      border-radius: 50%;\n",
              "      cursor: pointer;\n",
              "      display: none;\n",
              "      fill: #1967D2;\n",
              "      height: 32px;\n",
              "      padding: 0 0 0 0;\n",
              "      width: 32px;\n",
              "    }\n",
              "\n",
              "    .colab-df-convert:hover {\n",
              "      background-color: #E2EBFA;\n",
              "      box-shadow: 0px 1px 2px rgba(60, 64, 67, 0.3), 0px 1px 3px 1px rgba(60, 64, 67, 0.15);\n",
              "      fill: #174EA6;\n",
              "    }\n",
              "\n",
              "    .colab-df-buttons div {\n",
              "      margin-bottom: 4px;\n",
              "    }\n",
              "\n",
              "    [theme=dark] .colab-df-convert {\n",
              "      background-color: #3B4455;\n",
              "      fill: #D2E3FC;\n",
              "    }\n",
              "\n",
              "    [theme=dark] .colab-df-convert:hover {\n",
              "      background-color: #434B5C;\n",
              "      box-shadow: 0px 1px 3px 1px rgba(0, 0, 0, 0.15);\n",
              "      filter: drop-shadow(0px 1px 2px rgba(0, 0, 0, 0.3));\n",
              "      fill: #FFFFFF;\n",
              "    }\n",
              "  </style>\n",
              "\n",
              "    <script>\n",
              "      const buttonEl =\n",
              "        document.querySelector('#df-c8a63a37-b21d-4c01-80c0-05744e69c471 button.colab-df-convert');\n",
              "      buttonEl.style.display =\n",
              "        google.colab.kernel.accessAllowed ? 'block' : 'none';\n",
              "\n",
              "      async function convertToInteractive(key) {\n",
              "        const element = document.querySelector('#df-c8a63a37-b21d-4c01-80c0-05744e69c471');\n",
              "        const dataTable =\n",
              "          await google.colab.kernel.invokeFunction('convertToInteractive',\n",
              "                                                    [key], {});\n",
              "        if (!dataTable) return;\n",
              "\n",
              "        const docLinkHtml = 'Like what you see? Visit the ' +\n",
              "          '<a target=\"_blank\" href=https://colab.research.google.com/notebooks/data_table.ipynb>data table notebook</a>'\n",
              "          + ' to learn more about interactive tables.';\n",
              "        element.innerHTML = '';\n",
              "        dataTable['output_type'] = 'display_data';\n",
              "        await google.colab.output.renderOutput(dataTable, element);\n",
              "        const docLink = document.createElement('div');\n",
              "        docLink.innerHTML = docLinkHtml;\n",
              "        element.appendChild(docLink);\n",
              "      }\n",
              "    </script>\n",
              "  </div>\n",
              "\n",
              "\n",
              "<div id=\"df-d4f36220-230b-4ee9-bc82-ffcf8be0aa35\">\n",
              "  <button class=\"colab-df-quickchart\" onclick=\"quickchart('df-d4f36220-230b-4ee9-bc82-ffcf8be0aa35')\"\n",
              "            title=\"Suggest charts\"\n",
              "            style=\"display:none;\">\n",
              "\n",
              "<svg xmlns=\"http://www.w3.org/2000/svg\" height=\"24px\"viewBox=\"0 0 24 24\"\n",
              "     width=\"24px\">\n",
              "    <g>\n",
              "        <path d=\"M19 3H5c-1.1 0-2 .9-2 2v14c0 1.1.9 2 2 2h14c1.1 0 2-.9 2-2V5c0-1.1-.9-2-2-2zM9 17H7v-7h2v7zm4 0h-2V7h2v10zm4 0h-2v-4h2v4z\"/>\n",
              "    </g>\n",
              "</svg>\n",
              "  </button>\n",
              "\n",
              "<style>\n",
              "  .colab-df-quickchart {\n",
              "      --bg-color: #E8F0FE;\n",
              "      --fill-color: #1967D2;\n",
              "      --hover-bg-color: #E2EBFA;\n",
              "      --hover-fill-color: #174EA6;\n",
              "      --disabled-fill-color: #AAA;\n",
              "      --disabled-bg-color: #DDD;\n",
              "  }\n",
              "\n",
              "  [theme=dark] .colab-df-quickchart {\n",
              "      --bg-color: #3B4455;\n",
              "      --fill-color: #D2E3FC;\n",
              "      --hover-bg-color: #434B5C;\n",
              "      --hover-fill-color: #FFFFFF;\n",
              "      --disabled-bg-color: #3B4455;\n",
              "      --disabled-fill-color: #666;\n",
              "  }\n",
              "\n",
              "  .colab-df-quickchart {\n",
              "    background-color: var(--bg-color);\n",
              "    border: none;\n",
              "    border-radius: 50%;\n",
              "    cursor: pointer;\n",
              "    display: none;\n",
              "    fill: var(--fill-color);\n",
              "    height: 32px;\n",
              "    padding: 0;\n",
              "    width: 32px;\n",
              "  }\n",
              "\n",
              "  .colab-df-quickchart:hover {\n",
              "    background-color: var(--hover-bg-color);\n",
              "    box-shadow: 0 1px 2px rgba(60, 64, 67, 0.3), 0 1px 3px 1px rgba(60, 64, 67, 0.15);\n",
              "    fill: var(--button-hover-fill-color);\n",
              "  }\n",
              "\n",
              "  .colab-df-quickchart-complete:disabled,\n",
              "  .colab-df-quickchart-complete:disabled:hover {\n",
              "    background-color: var(--disabled-bg-color);\n",
              "    fill: var(--disabled-fill-color);\n",
              "    box-shadow: none;\n",
              "  }\n",
              "\n",
              "  .colab-df-spinner {\n",
              "    border: 2px solid var(--fill-color);\n",
              "    border-color: transparent;\n",
              "    border-bottom-color: var(--fill-color);\n",
              "    animation:\n",
              "      spin 1s steps(1) infinite;\n",
              "  }\n",
              "\n",
              "  @keyframes spin {\n",
              "    0% {\n",
              "      border-color: transparent;\n",
              "      border-bottom-color: var(--fill-color);\n",
              "      border-left-color: var(--fill-color);\n",
              "    }\n",
              "    20% {\n",
              "      border-color: transparent;\n",
              "      border-left-color: var(--fill-color);\n",
              "      border-top-color: var(--fill-color);\n",
              "    }\n",
              "    30% {\n",
              "      border-color: transparent;\n",
              "      border-left-color: var(--fill-color);\n",
              "      border-top-color: var(--fill-color);\n",
              "      border-right-color: var(--fill-color);\n",
              "    }\n",
              "    40% {\n",
              "      border-color: transparent;\n",
              "      border-right-color: var(--fill-color);\n",
              "      border-top-color: var(--fill-color);\n",
              "    }\n",
              "    60% {\n",
              "      border-color: transparent;\n",
              "      border-right-color: var(--fill-color);\n",
              "    }\n",
              "    80% {\n",
              "      border-color: transparent;\n",
              "      border-right-color: var(--fill-color);\n",
              "      border-bottom-color: var(--fill-color);\n",
              "    }\n",
              "    90% {\n",
              "      border-color: transparent;\n",
              "      border-bottom-color: var(--fill-color);\n",
              "    }\n",
              "  }\n",
              "</style>\n",
              "\n",
              "  <script>\n",
              "    async function quickchart(key) {\n",
              "      const quickchartButtonEl =\n",
              "        document.querySelector('#' + key + ' button');\n",
              "      quickchartButtonEl.disabled = true;  // To prevent multiple clicks.\n",
              "      quickchartButtonEl.classList.add('colab-df-spinner');\n",
              "      try {\n",
              "        const charts = await google.colab.kernel.invokeFunction(\n",
              "            'suggestCharts', [key], {});\n",
              "      } catch (error) {\n",
              "        console.error('Error during call to suggestCharts:', error);\n",
              "      }\n",
              "      quickchartButtonEl.classList.remove('colab-df-spinner');\n",
              "      quickchartButtonEl.classList.add('colab-df-quickchart-complete');\n",
              "    }\n",
              "    (() => {\n",
              "      let quickchartButtonEl =\n",
              "        document.querySelector('#df-d4f36220-230b-4ee9-bc82-ffcf8be0aa35 button');\n",
              "      quickchartButtonEl.style.display =\n",
              "        google.colab.kernel.accessAllowed ? 'block' : 'none';\n",
              "    })();\n",
              "  </script>\n",
              "</div>\n",
              "\n",
              "    </div>\n",
              "  </div>\n"
            ],
            "application/vnd.google.colaboratory.intrinsic+json": {
              "type": "dataframe",
              "variable_name": "dataframe",
              "summary": "{\n  \"name\": \"dataframe\",\n  \"rows\": 41157,\n  \"fields\": [\n    {\n      \"column\": \"UserName\",\n      \"properties\": {\n        \"dtype\": \"number\",\n        \"std\": 11881,\n        \"min\": 3799,\n        \"max\": 44955,\n        \"num_unique_values\": 41157,\n        \"samples\": [\n          34888,\n          39363,\n          3943\n        ],\n        \"semantic_type\": \"\",\n        \"description\": \"\"\n      }\n    },\n    {\n      \"column\": \"ScreenName\",\n      \"properties\": {\n        \"dtype\": \"number\",\n        \"std\": 11881,\n        \"min\": 48751,\n        \"max\": 89907,\n        \"num_unique_values\": 41157,\n        \"samples\": [\n          79840,\n          84315,\n          48895\n        ],\n        \"semantic_type\": \"\",\n        \"description\": \"\"\n      }\n    },\n    {\n      \"column\": \"Location\",\n      \"properties\": {\n        \"dtype\": \"category\",\n        \"num_unique_values\": 12220,\n        \"samples\": [\n          \"Killeen, TX\",\n          \"Richmond VA\",\n          \"El Dorado\"\n        ],\n        \"semantic_type\": \"\",\n        \"description\": \"\"\n      }\n    },\n    {\n      \"column\": \"TweetAt\",\n      \"properties\": {\n        \"dtype\": \"object\",\n        \"num_unique_values\": 30,\n        \"samples\": [\n          \"12-04-2020\",\n          \"31-03-2020\",\n          \"08-04-2020\"\n        ],\n        \"semantic_type\": \"\",\n        \"description\": \"\"\n      }\n    },\n    {\n      \"column\": \"OriginalTweet\",\n      \"properties\": {\n        \"dtype\": \"string\",\n        \"num_unique_values\": 41157,\n        \"samples\": [\n          \" Without the there would not be any problem whatsoever People are getting worried about the supply chain   Prices for key food staples are starting to soar in some parts of the world via\",\n          \"Rice &amp; wheat prices surge amid fears Covid-19 lockdown may threaten global food security\\r\\r\\nIncreased panic buying of food due to coronavirus lockdowns has led to price spikes for  world\\u00ac\\u00eds two staple grains, rice&amp; wheat. Importers rushed to stockpile goods\\r\\r\\n https://t.co/0qOv3jAp9m\",\n          \"When the government says to start social distancing, but you work retail so you can't just not talk to customers in the store lol fml I'm 100% going to catch covid-19\"\n        ],\n        \"semantic_type\": \"\",\n        \"description\": \"\"\n      }\n    },\n    {\n      \"column\": \"Sentiment\",\n      \"properties\": {\n        \"dtype\": \"category\",\n        \"num_unique_values\": 5,\n        \"samples\": [\n          \"Positive\",\n          \"Extremely Positive\",\n          \"Extremely Negative\"\n        ],\n        \"semantic_type\": \"\",\n        \"description\": \"\"\n      }\n    }\n  ]\n}"
            }
          },
          "metadata": {},
          "execution_count": 5
        }
      ]
    },
    {
      "cell_type": "code",
      "source": [
        "def pie_chart(dataframe):\n",
        "  label_types = dataframe.Sentiment.unique().astype(str)\n",
        "  label_counts = dataframe.Sentiment.value_counts()\n",
        "  print('Labels in the dataset: ', label_types)\n",
        "  print(label_counts)\n",
        "  labels = label_types\n",
        "  sizes = [count for count in label_counts]\n",
        "  fig = plt.figure(figsize=(5, 5))\n",
        "  plt.pie(sizes, labels=labels, autopct='%1.1f%%', shadow=True, startangle=90)\n",
        "  plt.title('Sentiment Distribution')\n",
        "  plt.axis('equal')\n",
        "  plt.show()\n",
        "\n",
        "pie_chart(dataframe)"
      ],
      "metadata": {
        "colab": {
          "base_uri": "https://localhost:8080/",
          "height": 580
        },
        "id": "7Qp0enzRotpY",
        "outputId": "9628f2d2-5f22-4760-a7f2-b11ef664fc16"
      },
      "execution_count": null,
      "outputs": [
        {
          "output_type": "stream",
          "name": "stdout",
          "text": [
            "Labels in the dataset:  ['Neutral' 'Positive' 'Extremely Negative' 'Negative' 'Extremely Positive']\n",
            "Sentiment\n",
            "Positive              11422\n",
            "Negative               9917\n",
            "Neutral                7713\n",
            "Extremely Positive     6624\n",
            "Extremely Negative     5481\n",
            "Name: count, dtype: int64\n"
          ]
        },
        {
          "output_type": "display_data",
          "data": {
            "text/plain": [
              "<Figure size 500x500 with 1 Axes>"
            ],
            "image/png": "[encoded data removed]"
          },
          "metadata": {}
        }
      ]
    },
    {
      "cell_type": "code",
      "source": [
        "dataframe[dataframe['Sentiment'] == 'Negative']['OriginalTweet'].shape\n"
      ],
      "metadata": {
        "colab": {
          "base_uri": "https://localhost:8080/"
        },
        "id": "uCUwqR2F0ixk",
        "outputId": "b39c5a72-d4a9-401a-8e67-6fda0207cfd5"
      },
      "execution_count": null,
      "outputs": [
        {
          "output_type": "execute_result",
          "data": {
            "text/plain": [
              "(9917,)"
            ]
          },
          "metadata": {},
          "execution_count": 7
        }
      ]
    },
    {
      "cell_type": "code",
      "source": [
        "dataframe[dataframe['Sentiment'] == 'Positive']['OriginalTweet'].shape\n"
      ],
      "metadata": {
        "colab": {
          "base_uri": "https://localhost:8080/"
        },
        "id": "i91gql3u1xiJ",
        "outputId": "79402481-b100-4160-e26d-69f42062f07a"
      },
      "execution_count": null,
      "outputs": [
        {
          "output_type": "execute_result",
          "data": {
            "text/plain": [
              "(11422,)"
            ]
          },
          "metadata": {},
          "execution_count": 8
        }
      ]
    },
    {
      "cell_type": "code",
      "source": [
        "all_positive_tweets = list(dataframe[dataframe['Sentiment'] == 'Positive']['OriginalTweet'].astype(str))[:9917]\n",
        "all_negative_tweets = list(dataframe[dataframe['Sentiment'] == 'Negative']['OriginalTweet'].astype(str))"
      ],
      "metadata": {
        "id": "D60J_lMa2d2F"
      },
      "execution_count": null,
      "outputs": []
    },
    {
      "cell_type": "code",
      "source": [
        "tweet = all_positive_tweets[1222]\n",
        "word = tweet.split()\n",
        "print('Using Split :', word)"
      ],
      "metadata": {
        "colab": {
          "base_uri": "https://localhost:8080/"
        },
        "id": "vyjCnTA-8CDR",
        "outputId": "f8cf6166-2d84-4b6f-a59b-9c200ac22144"
      },
      "execution_count": null,
      "outputs": [
        {
          "output_type": "stream",
          "name": "stdout",
          "text": [
            "Using Split : ['#NSTnation:', 'The', 'streets', 'were', 'extra', 'quiet', 'with', 'plenty', 'of', 'parking', 'spaces', 'available', 'at', 'shopping', 'malls.', 'Gaya', 'Street,', 'a', 'major', 'city', 'centre', 'thoroughfare', 'was', 'deserted', 'as', 'well.', 'https://t.co/0jqWH5YNLV', '#MCO', '#MovementControlOrder', '#coronavirus', '#covid19', '#sabah']\n"
          ]
        }
      ]
    },
    {
      "cell_type": "code",
      "source": [
        "tokens = re.findall(\"[\\w']+\", tweet)\n",
        "print('Using regexes :', tokens)"
      ],
      "metadata": {
        "colab": {
          "base_uri": "https://localhost:8080/"
        },
        "id": "XYgLaZcy9Y3Q",
        "outputId": "a8c7ee65-6f16-4d8a-b8fc-431e7ca4d285"
      },
      "execution_count": null,
      "outputs": [
        {
          "output_type": "stream",
          "name": "stdout",
          "text": [
            "Using regexes : ['NSTnation', 'The', 'streets', 'were', 'extra', 'quiet', 'with', 'plenty', 'of', 'parking', 'spaces', 'available', 'at', 'shopping', 'malls', 'Gaya', 'Street', 'a', 'major', 'city', 'centre', 'thoroughfare', 'was', 'deserted', 'as', 'well', 'https', 't', 'co', '0jqWH5YNLV', 'MCO', 'MovementControlOrder', 'coronavirus', 'covid19', 'sabah']\n"
          ]
        }
      ]
    },
    {
      "cell_type": "code",
      "source": [
        "from nltk.tokenize import TweetTokenizer\n",
        "tknzr = TweetTokenizer()\n",
        "tokens = tknzr.tokenize(tweet)\n",
        "print('Using TweetTokenizer :', tokens)"
      ],
      "metadata": {
        "colab": {
          "base_uri": "https://localhost:8080/"
        },
        "id": "claLsiUMANhV",
        "outputId": "a0478ed9-816f-4fd4-a82f-5bd045ee8c60"
      },
      "execution_count": null,
      "outputs": [
        {
          "output_type": "stream",
          "name": "stdout",
          "text": [
            "Using TweetTokenizer : ['#NSTnation', ':', 'The', 'streets', 'were', 'extra', 'quiet', 'with', 'plenty', 'of', 'parking', 'spaces', 'available', 'at', 'shopping', 'malls', '.', 'Gaya', 'Street', ',', 'a', 'major', 'city', 'centre', 'thoroughfare', 'was', 'deserted', 'as', 'well', '.', 'https://t.co/0jqWH5YNLV', '#MCO', '#MovementControlOrder', '#coronavirus', '#covid19', '#sabah']\n"
          ]
        }
      ]
    },
    {
      "cell_type": "code",
      "source": [
        "splits = tweet.split('. ')\n",
        "print('Using Splits :', splits)\n",
        "\n",
        "sentence_splits = re.compile('[.!?] ').split(tweet)\n",
        "print('Using regexes :', sentence_splits)"
      ],
      "metadata": {
        "id": "8KZ_JBbNAr7y",
        "colab": {
          "base_uri": "https://localhost:8080/"
        },
        "outputId": "5caeaf22-f542-487f-93a8-830a68e58b09"
      },
      "execution_count": null,
      "outputs": [
        {
          "output_type": "stream",
          "name": "stdout",
          "text": [
            "Using Splits : ['#NSTnation: The streets were extra quiet with plenty of parking spaces available at shopping malls', 'Gaya Street, a major city centre thoroughfare was deserted as well.\\r\\r\\n\\r\\r\\nhttps://t.co/0jqWH5YNLV\\r\\r\\n\\r\\r\\n#MCO #MovementControlOrder #coronavirus #covid19 #sabah']\n",
            "Using regexes : ['#NSTnation: The streets were extra quiet with plenty of parking spaces available at shopping malls', 'Gaya Street, a major city centre thoroughfare was deserted as well.\\r\\r\\n\\r\\r\\nhttps://t.co/0jqWH5YNLV\\r\\r\\n\\r\\r\\n#MCO #MovementControlOrder #coronavirus #covid19 #sabah']\n"
          ]
        }
      ]
    },
    {
      "cell_type": "code",
      "source": [
        "import nltk\n",
        "from nltk.corpus import twitter_samples\n",
        "from nltk.corpus import stopwords\n",
        "from nltk.stem import PorterStemmer\n",
        "from nltk.tokenize import TweetTokenizer"
      ],
      "metadata": {
        "id": "dV4V7sdzRpMc"
      },
      "execution_count": null,
      "outputs": []
    },
    {
      "cell_type": "code",
      "source": [
        "tweet = all_positive_tweets[12]\n",
        "tweet"
      ],
      "metadata": {
        "colab": {
          "base_uri": "https://localhost:8080/",
          "height": 35
        },
        "id": "FlgdXMULTqnO",
        "outputId": "01de4875-3628-4935-e25d-e89a17642719"
      },
      "execution_count": null,
      "outputs": [
        {
          "output_type": "execute_result",
          "data": {
            "text/plain": [
              "'Now I can go to the supermarket like this without being judged! ? #CoronavirusOutbreak #COVID2019 https://t.co/krTCGiUHQS'"
            ],
            "application/vnd.google.colaboratory.intrinsic+json": {
              "type": "string"
            }
          },
          "metadata": {},
          "execution_count": 15
        }
      ]
    },
    {
      "cell_type": "code",
      "source": [
        "print('\\033[92m' + tweet)\n",
        "print('\\033[94m')\n",
        "\n",
        "tweet2 = re.sub(r'^RT[\\s]+', '', tweet)\n",
        "\n",
        "tweet2 = re.sub(r'https?://[^\\s\\n\\r]+', '', tweet2)\n",
        "\n",
        "tweet2 = re.sub(r'#', '', tweet2)\n",
        "\n",
        "print(tweet2)"
      ],
      "metadata": {
        "colab": {
          "base_uri": "https://localhost:8080/"
        },
        "id": "o9Kst9o0T4iu",
        "outputId": "c4a31f59-72a0-4f27-cd4f-662924df60f9"
      },
      "execution_count": null,
      "outputs": [
        {
          "output_type": "stream",
          "name": "stdout",
          "text": [
            "\u001b[92mNow I can go to the supermarket like this without being judged! ? #CoronavirusOutbreak #COVID2019 https://t.co/krTCGiUHQS\n",
            "\u001b[94m\n",
            "Now I can go to the supermarket like this without being judged! ? CoronavirusOutbreak COVID2019 \n"
          ]
        }
      ]
    },
    {
      "cell_type": "code",
      "source": [
        "print()\n",
        "print('\\033[92m' + tweet2 + '\\033[0m')\n",
        "\n",
        "tokenizer = TweetTokenizer(preserve_case=False, strip_handles=True,\n",
        "                               reduce_len=True)\n",
        "tweet_tokens = tokenizer.tokenize(tweet2)\n",
        "\n",
        "print()\n",
        "print('Tokenized string:')\n",
        "print(tweet_tokens)"
      ],
      "metadata": {
        "colab": {
          "base_uri": "https://localhost:8080/"
        },
        "id": "uQ3BNgrbU_JQ",
        "outputId": "7c6b8097-f50a-4283-d1ae-99d6c10f646d"
      },
      "execution_count": null,
      "outputs": [
        {
          "output_type": "stream",
          "name": "stdout",
          "text": [
            "\n",
            "\u001b[92mNow I can go to the supermarket like this without being judged! ? CoronavirusOutbreak COVID2019 \u001b[0m\n",
            "\n",
            "Tokenized string:\n",
            "['now', 'i', 'can', 'go', 'to', 'the', 'supermarket', 'like', 'this', 'without', 'being', 'judged', '!', '?', 'coronavirusoutbreak', 'covid', '2019']\n"
          ]
        }
      ]
    },
    {
      "cell_type": "code",
      "source": [
        "nltk.download('stopwords')\n",
        "stopwords_english = stopwords.words('english')\n",
        "\n",
        "print('Stop words\\n')\n",
        "print(stopwords_english)\n",
        "\n",
        "print('\\nPunctuation\\n')\n",
        "print(string.punctuation)"
      ],
      "metadata": {
        "colab": {
          "base_uri": "https://localhost:8080/"
        },
        "id": "Ba1JhTSMVu_N",
        "outputId": "28b229e8-c441-4fab-83d0-a4a3249d5606"
      },
      "execution_count": null,
      "outputs": [
        {
          "output_type": "stream",
          "name": "stdout",
          "text": [
            "Stop words\n",
            "\n",
            "['i', 'me', 'my', 'myself', 'we', 'our', 'ours', 'ourselves', 'you', \"you're\", \"you've\", \"you'll\", \"you'd\", 'your', 'yours', 'yourself', 'yourselves', 'he', 'him', 'his', 'himself', 'she', \"she's\", 'her', 'hers', 'herself', 'it', \"it's\", 'its', 'itself', 'they', 'them', 'their', 'theirs', 'themselves', 'what', 'which', 'who', 'whom', 'this', 'that', \"that'll\", 'these', 'those', 'am', 'is', 'are', 'was', 'were', 'be', 'been', 'being', 'have', 'has', 'had', 'having', 'do', 'does', 'did', 'doing', 'a', 'an', 'the', 'and', 'but', 'if', 'or', 'because', 'as', 'until', 'while', 'of', 'at', 'by', 'for', 'with', 'about', 'against', 'between', 'into', 'through', 'during', 'before', 'after', 'above', 'below', 'to', 'from', 'up', 'down', 'in', 'out', 'on', 'off', 'over', 'under', 'again', 'further', 'then', 'once', 'here', 'there', 'when', 'where', 'why', 'how', 'all', 'any', 'both', 'each', 'few', 'more', 'most', 'other', 'some', 'such', 'no', 'nor', 'not', 'only', 'own', 'same', 'so', 'than', 'too', 'very', 's', 't', 'can', 'will', 'just', 'don', \"don't\", 'should', \"should've\", 'now', 'd', 'll', 'm', 'o', 're', 've', 'y', 'ain', 'aren', \"aren't\", 'couldn', \"couldn't\", 'didn', \"didn't\", 'doesn', \"doesn't\", 'hadn', \"hadn't\", 'hasn', \"hasn't\", 'haven', \"haven't\", 'isn', \"isn't\", 'ma', 'mightn', \"mightn't\", 'mustn', \"mustn't\", 'needn', \"needn't\", 'shan', \"shan't\", 'shouldn', \"shouldn't\", 'wasn', \"wasn't\", 'weren', \"weren't\", 'won', \"won't\", 'wouldn', \"wouldn't\"]\n",
            "\n",
            "Punctuation\n",
            "\n",
            "!\"#$%&'()*+,-./:;<=>?@[\\]^_`{|}~\n"
          ]
        },
        {
          "output_type": "stream",
          "name": "stderr",
          "text": [
            "[nltk_data] Downloading package stopwords to /root/nltk_data...\n",
            "[nltk_data]   Unzipping corpora/stopwords.zip.\n"
          ]
        }
      ]
    },
    {
      "cell_type": "code",
      "source": [
        "print()\n",
        "print('\\033[92m')\n",
        "print(tweet_tokens)\n",
        "print('\\033[94m')\n",
        "\n",
        "tweets_clean = []\n",
        "\n",
        "for word in tweet_tokens:\n",
        "  if (word not in stopwords_english and\n",
        "      word not in string.punctuation):\n",
        "      tweets_clean.append(word)\n",
        "\n",
        "print('removed stop words and punctuation:')\n",
        "print(tweets_clean)"
      ],
      "metadata": {
        "colab": {
          "base_uri": "https://localhost:8080/"
        },
        "id": "D9652liMYTwZ",
        "outputId": "dd0daf3b-c397-4e31-c31b-6bf2ed24a745"
      },
      "execution_count": null,
      "outputs": [
        {
          "output_type": "stream",
          "name": "stdout",
          "text": [
            "\n",
            "\u001b[92m\n",
            "['now', 'i', 'can', 'go', 'to', 'the', 'supermarket', 'like', 'this', 'without', 'being', 'judged', '!', '?', 'coronavirusoutbreak', 'covid', '2019']\n",
            "\u001b[94m\n",
            "removed stop words and punctuation:\n",
            "['go', 'supermarket', 'like', 'without', 'judged', 'coronavirusoutbreak', 'covid', '2019']\n"
          ]
        }
      ]
    },
    {
      "cell_type": "code",
      "source": [
        "print()\n",
        "print('\\033[92m')\n",
        "print(tweet_tokens)\n",
        "print('\\033[94m')\n",
        "\n",
        "stemmer = PorterStemmer()\n",
        "\n",
        "tweets_stem = []\n",
        "\n",
        "for word in tweets_clean:\n",
        "  stem_word = stemmer.stem(word)\n",
        "  tweets_stem.append(stem_word)\n",
        "\n",
        "print('stemmed words:')\n",
        "print(tweets_stem)"
      ],
      "metadata": {
        "colab": {
          "base_uri": "https://localhost:8080/"
        },
        "id": "CyQWZsBeZPu6",
        "outputId": "d078fb72-7dd9-405e-fd1e-fcf7287228a2"
      },
      "execution_count": null,
      "outputs": [
        {
          "output_type": "stream",
          "name": "stdout",
          "text": [
            "\n",
            "\u001b[92m\n",
            "['now', 'i', 'can', 'go', 'to', 'the', 'supermarket', 'like', 'this', 'without', 'being', 'judged', '!', '?', 'coronavirusoutbreak', 'covid', '2019']\n",
            "\u001b[94m\n",
            "stemmed words:\n",
            "['go', 'supermarket', 'like', 'without', 'judg', 'coronavirusoutbreak', 'covid', '2019']\n"
          ]
        }
      ]
    },
    {
      "cell_type": "code",
      "source": [
        "def process_tweet(tweet):\n",
        "  stemmer = PorterStemmer()\n",
        "  stopwords_english = stopwords.words('english')\n",
        "  tweet = re.sub(r'\\$\\w*', '', tweet)\n",
        "  tweet = re.sub(r'^RT[\\s]+', '', tweet)\n",
        "  tweet = re.sub(r'https?://[^\\s\\n\\r]+', '', tweet)\n",
        "  tweet = re.sub(r'#', '', tweet)\n",
        "  tokenizer = TweetTokenizer(preserve_case=False, strip_handles=True,\n",
        "                             reduce_len=True)\n",
        "  tweet_tokens = tokenizer.tokenize(tweet)\n",
        "\n",
        "  tweets_clean = []\n",
        "  for word in tweet_tokens:\n",
        "    if (word not in stopwords_english and\n",
        "        word not in string.punctuation):\n",
        "      stem_word = stemmer.stem(word)\n",
        "      tweets_clean.append(stem_word)\n",
        "\n",
        "  return tweets_clean"
      ],
      "metadata": {
        "id": "bHK1GHqKaY-S"
      },
      "execution_count": null,
      "outputs": []
    },
    {
      "cell_type": "code",
      "source": [
        "tweet = all_positive_tweets[12]\n",
        "\n",
        "print()\n",
        "print('\\033[92m')\n",
        "print(tweet)\n",
        "print('\\033[94m')\n",
        "\n",
        "tweets_stem = process_tweet(tweet);\n",
        "\n",
        "print('processed tweet:')\n",
        "print(tweets_stem)"
      ],
      "metadata": {
        "colab": {
          "base_uri": "https://localhost:8080/"
        },
        "id": "hOOlFBHdSPBa",
        "outputId": "c05a8c49-ef89-40cc-d2cb-0563483b945f"
      },
      "execution_count": null,
      "outputs": [
        {
          "output_type": "stream",
          "name": "stdout",
          "text": [
            "\n",
            "\u001b[92m\n",
            "Now I can go to the supermarket like this without being judged! ? #CoronavirusOutbreak #COVID2019 https://t.co/krTCGiUHQS\n",
            "\u001b[94m\n",
            "processed tweet:\n",
            "['go', 'supermarket', 'like', 'without', 'judg', 'coronavirusoutbreak', 'covid', '2019']\n"
          ]
        }
      ]
    },
    {
      "cell_type": "code",
      "source": [
        "def build_freqs(tweets, ys):\n",
        "  yslist = np.squeeze(ys).tolist()\n",
        "  freqs = {}\n",
        "\n",
        "  for y, tweet in zip(yslist, tweets):\n",
        "    for word in process_tweet(tweet):\n",
        "      pair = (word, y)\n",
        "      if pair in freqs:\n",
        "        freqs[pair] += 1\n",
        "      else:\n",
        "        freqs[pair] = 1\n",
        "\n",
        "  return freqs"
      ],
      "metadata": {
        "id": "P7_2uJw1c6h9"
      },
      "execution_count": null,
      "outputs": []
    },
    {
      "cell_type": "code",
      "source": [
        "training_tweets = all_positive_tweets + all_negative_tweets\n",
        "labels = np.append(np.ones(len(all_positive_tweets)), np.zeros(len(all_negative_tweets)))"
      ],
      "metadata": {
        "id": "T1SR8eDIA6j0"
      },
      "execution_count": null,
      "outputs": []
    },
    {
      "cell_type": "code",
      "source": [
        "freqs = build_freqs(training_tweets, labels)\n",
        "\n",
        "print(f'type(freqs) = {type(freqs)}')\n",
        "print(f'len(freqs) = {len(freqs)}')"
      ],
      "metadata": {
        "colab": {
          "base_uri": "https://localhost:8080/"
        },
        "id": "ACoAnzmWtxBK",
        "outputId": "76bf7c9b-0b47-488c-eff0-9b50059bd6a3"
      },
      "execution_count": null,
      "outputs": [
        {
          "output_type": "stream",
          "name": "stdout",
          "text": [
            "type(freqs) = <class 'dict'>\n",
            "len(freqs) = 32778\n"
          ]
        }
      ]
    },
    {
      "cell_type": "code",
      "source": [
        "keys = ['void', 'commun', 'spirit', 'stop', 'merri', 'nice', 'good', 'bad', 'sad', 'mad', 'best', 'pretti', ':)', ':(', 'song', 'idea', 'power', 'play']\n",
        "\n",
        "data = []\n",
        "\n",
        "for word in keys:\n",
        "  pos = 0\n",
        "  neg = 0\n",
        "\n",
        "  if (word, 1) in freqs:\n",
        "    pos = freqs[(word, 1)]\n",
        "  if (word, 0) in freqs:\n",
        "    neg = freqs[(word, 0)]\n",
        "\n",
        "  data.append([word, pos, neg])\n",
        "\n",
        "data"
      ],
      "metadata": {
        "id": "HDoRNlN1tSKK",
        "colab": {
          "base_uri": "https://localhost:8080/"
        },
        "outputId": "9a94c49e-5361-40a9-f7c7-c39885ffe3e0"
      },
      "execution_count": null,
      "outputs": [
        {
          "output_type": "execute_result",
          "data": {
            "text/plain": [
              "[['void', 2, 2],\n",
              " ['commun', 219, 126],\n",
              " ['spirit', 23, 10],\n",
              " ['stop', 214, 420],\n",
              " ['merri', 0, 0],\n",
              " ['nice', 54, 26],\n",
              " ['good', 417, 250],\n",
              " ['bad', 36, 78],\n",
              " ['sad', 15, 28],\n",
              " ['mad', 12, 51],\n",
              " ['best', 80, 17],\n",
              " ['pretti', 41, 18],\n",
              " [':)', 6, 5],\n",
              " [':(', 4, 2],\n",
              " ['song', 11, 6],\n",
              " ['idea', 75, 47],\n",
              " ['power', 52, 43],\n",
              " ['play', 73, 42]]"
            ]
          },
          "metadata": {},
          "execution_count": 26
        }
      ]
    },
    {
      "cell_type": "code",
      "source": [
        "fig, ax = plt.subplots(figsize=(8, 8))\n",
        "\n",
        "x = np.log([x[1] + 1 for x in data])\n",
        "\n",
        "y = np.log([x[1] + 1 for x in data])\n",
        "\n",
        "ax.scatter(x, y)\n",
        "\n",
        "plt.xlabel(\"Log Positive count\")\n",
        "plt.ylabel(\"Log Negative count\")\n",
        "\n",
        "for i in range(0, len(data)):\n",
        "  ax.annotate(data[i][0], (x[i], y[i]), fontsize=12)\n",
        "\n",
        "ax.plot([0, 9], [0, 9], color = 'brown')\n",
        "plt.show()"
      ],
      "metadata": {
        "colab": {
          "base_uri": "https://localhost:8080/",
          "height": 696
        },
        "id": "kg69IDlce41b",
        "outputId": "f87e7df5-39fc-4d60-e4a2-955b6c1e6215"
      },
      "execution_count": null,
      "outputs": [
        {
          "output_type": "display_data",
          "data": {
            "text/plain": [
              "<Figure size 800x800 with 1 Axes>"
            ],
            "image/png": "[encoded data removed]"
          },
          "metadata": {}
        }
      ]
    },
    {
      "cell_type": "code",
      "source": [
        "def extract_features(tweet, freqs):\n",
        "\n",
        "  word_1 = process_tweet(tweet)\n",
        "  x = np.zeros((1, 3))\n",
        "  x[0, 0] = 1\n",
        "\n",
        "  for word in word_1:\n",
        "    if (word, 1) in freqs:\n",
        "      x[0, 1] += freqs.get((word, 1.0), 0)\n",
        "      x[0, 2] += freqs.get((word, 0.0), 0)\n",
        "\n",
        "  assert(x.shape == (1, 3))\n",
        "  return x"
      ],
      "metadata": {
        "id": "kdgVlT2alKl8"
      },
      "execution_count": null,
      "outputs": []
    },
    {
      "cell_type": "code",
      "source": [
        "train_x = training_tweets\n",
        "tmp1 = extract_features(train_x[0], freqs)\n",
        "print(tmp1)"
      ],
      "metadata": {
        "colab": {
          "base_uri": "https://localhost:8080/"
        },
        "id": "UqW9_oZ2mUYi",
        "outputId": "13f1c599-630e-4960-d76d-91a4f92154b1"
      },
      "execution_count": null,
      "outputs": [
        {
          "output_type": "stream",
          "name": "stdout",
          "text": [
            "[[1.000e+00 4.523e+03 3.878e+03]]\n"
          ]
        }
      ]
    },
    {
      "cell_type": "code",
      "source": [
        "tmp2 = extract_features('This batch is best batch', freqs)\n",
        "print(tmp2)"
      ],
      "metadata": {
        "colab": {
          "base_uri": "https://localhost:8080/"
        },
        "id": "_l3_NgXRpik6",
        "outputId": "726d52ff-5bb4-43cc-fa21-c555011c5f25"
      },
      "execution_count": null,
      "outputs": [
        {
          "output_type": "stream",
          "name": "stdout",
          "text": [
            "[[ 1. 90. 23.]]\n"
          ]
        }
      ]
    },
    {
      "cell_type": "code",
      "source": [
        "X = np.zeros((len(train_x), 3))\n",
        "for i in range(len(train_x)):\n",
        "  X[i, :] = extract_features(train_x[i], freqs)\n",
        "\n",
        "train_y = np.append(np.ones((len(all_positive_tweets), 1)), np.zeros((len(all_negative_tweets), 1)), axis=0)\n",
        "Y = np.ravel(train_y, order='C')"
      ],
      "metadata": {
        "id": "WdvtJzD5q2C_"
      },
      "execution_count": null,
      "outputs": []
    },
    {
      "cell_type": "code",
      "source": [
        "from sklearn.linear_model import LogisticRegression\n",
        "clf = LogisticRegression(random_state=0).fit(X, Y)\n",
        "print(\"Training Accuracy: \", clf.score(X, Y))"
      ],
      "metadata": {
        "colab": {
          "base_uri": "https://localhost:8080/"
        },
        "id": "9Hhc1JxYrrNA",
        "outputId": "927573d8-22ae-405f-fed0-2dd1664d10d5"
      },
      "execution_count": null,
      "outputs": [
        {
          "output_type": "stream",
          "name": "stdout",
          "text": [
            "Training Accuracy:  0.6166683472824442\n"
          ]
        }
      ]
    },
    {
      "cell_type": "code",
      "source": [
        "positive_test = list(dataframe[dataframe['Sentiment'] == 'Positive']['OriginalTweet'].astype(str))[9917:]\n",
        "negative_test = list(dataframe[dataframe['Sentiment'] == 'Negative']['OriginalTweet'].astype(str))\n",
        "testing_tweets = positive_test + negative_test\n",
        "test_X = np.zeros((len(testing_tweets), 3))\n",
        "for i in range(len(testing_tweets)):\n",
        "  test_X[i, :] = extract_features(testing_tweets[i], freqs)\n",
        "# training labels corresponding to x\n",
        "test_y = np.append(np.ones((len(positive_test), 1)), np.zeros((len(negative_test), 1)), axis=0)\n",
        "test_y = np.ravel(test_y, order='C')\n",
        "print(\"Testing Accuracy: \",clf.score(test_X, test_y))"
      ],
      "metadata": {
        "colab": {
          "base_uri": "https://localhost:8080/"
        },
        "id": "95Rskr4Y8Ulg",
        "outputId": "53f788a2-5748-4df0-cd37-dd7c507876be"
      },
      "execution_count": null,
      "outputs": [
        {
          "output_type": "stream",
          "name": "stdout",
          "text": [
            "Testing Accuracy:  0.6056732621257223\n"
          ]
        }
      ]
    },
    {
      "cell_type": "code",
      "source": [
        "def predict_custom_tweet(tweet, freqs):\n",
        "  x = extract_features(tweet, freqs)\n",
        "  y_pred = clf.predict(x)\n",
        "  return y_pred\n",
        "\n",
        "list_of_tweets = ['\\033[92m'+'Thank God coronovirus is over',\n",
        "                  '\\033[91m'+'This is seriously. ridiculous. Stop hoarding',\n",
        "                  '\\033[92m'+'Government efforts are great.',\n",
        "                  '\\033[93m'+'Nonsense' , #anomaly in classification\n",
        "                  '\\033[91m'+'Panic-buying is pushing up prices.#coronavirus',\n",
        "                  '\\033[92m'+'THANK YOU to make hand sanitizer in distillery amid outbreak']\n",
        "\n",
        "\n",
        "for tweet in list_of_tweets:\n",
        "  print('%s -> %f' % (tweet, predict_custom_tweet(tweet, freqs)))"
      ],
      "metadata": {
        "colab": {
          "base_uri": "https://localhost:8080/"
        },
        "id": "me3mFFlWxkF8",
        "outputId": "2c4da68c-3226-43a4-db3b-8a64fa82892b"
      },
      "execution_count": null,
      "outputs": [
        {
          "output_type": "stream",
          "name": "stdout",
          "text": [
            "\u001b[92mThank God coronovirus is over -> 0.000000\n",
            "\u001b[91mThis is seriously. ridiculous. Stop hoarding -> 0.000000\n",
            "\u001b[92mGovernment efforts are great. -> 0.000000\n",
            "\u001b[93mNonsense -> 0.000000\n",
            "\u001b[91mPanic-buying is pushing up prices.#coronavirus -> 0.000000\n",
            "\u001b[92mTHANK YOU to make hand sanitizer in distillery amid outbreak -> 1.000000\n"
          ]
        }
      ]
    },
    {
      "cell_type": "code",
      "source": [],
      "metadata": {
        "id": "f_4RzSJpSKvO"
      },
      "execution_count": null,
      "outputs": []
    },
    {
      "cell_type": "code",
      "source": [],
      "metadata": {
        "id": "fSBnnIkYSH1a"
      },
      "execution_count": null,
      "outputs": []
    }
  ]
}